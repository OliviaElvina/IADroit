{
 "cells": [
  {
   "cell_type": "code",
   "execution_count": 1,
   "id": "e5b33309",
   "metadata": {},
   "outputs": [],
   "source": [
    "import numpy as np\n",
    "import pandas as pd\n",
    "from sklearn.model_selection import train_test_split, GridSearchCV\n",
    "from sklearn.feature_extraction.text import TfidfVectorizer, CountVectorizer\n",
    "from sklearn import naive_bayes\n",
    "from sklearn.svm import SVC\n",
    "from sklearn.neighbors import KNeighborsClassifier\n",
    "from sklearn.neural_network import MLPClassifier\n",
    "from sklearn.tree import DecisionTreeClassifier\n",
    "from sklearn.dummy import DummyClassifier\n",
    "from sklearn.ensemble import RandomForestClassifier\n",
    "from sklearn.metrics import confusion_matrix\n",
    "from sklearn import metrics"
   ]
  },
  {
   "cell_type": "markdown",
   "id": "db715000",
   "metadata": {},
   "source": [
    "Chargement de la dataset :"
   ]
  },
  {
   "cell_type": "code",
   "execution_count": 2,
   "id": "66197bf0",
   "metadata": {},
   "outputs": [
    {
     "data": {
      "text/html": [
       "<div>\n",
       "<style scoped>\n",
       "    .dataframe tbody tr th:only-of-type {\n",
       "        vertical-align: middle;\n",
       "    }\n",
       "\n",
       "    .dataframe tbody tr th {\n",
       "        vertical-align: top;\n",
       "    }\n",
       "\n",
       "    .dataframe thead th {\n",
       "        text-align: right;\n",
       "    }\n",
       "</style>\n",
       "<table border=\"1\" class=\"dataframe\">\n",
       "  <thead>\n",
       "    <tr style=\"text-align: right;\">\n",
       "      <th></th>\n",
       "      <th>all</th>\n",
       "      <th>faits</th>\n",
       "      <th>motifs</th>\n",
       "      <th>jugement</th>\n",
       "      <th>faits_motifs</th>\n",
       "      <th>motifs_jugement</th>\n",
       "      <th>label</th>\n",
       "    </tr>\n",
       "  </thead>\n",
       "  <tbody>\n",
       "    <tr>\n",
       "      <th>0</th>\n",
       "      <td>Cour d'appel, Aix-en-Provence, 6e chambre B, 2...</td>\n",
       "      <td>Monsieur Jean-Pierre Olivier Z. | né le 25 Sep...</td>\n",
       "      <td>Sur la résidence habituelle des enfants commun...</td>\n",
       "      <td>Par ordonnance du 7 octobre 2015 le juge aux a...</td>\n",
       "      <td>Monsieur Jean-Pierre Olivier Z. | né le 25 Sep...</td>\n",
       "      <td>Sur la résidence habituelle des enfants commun...</td>\n",
       "      <td>M</td>\n",
       "    </tr>\n",
       "    <tr>\n",
       "      <th>1</th>\n",
       "      <td>Cour d'appel, Metz, Chambre de la famille, 17 ...</td>\n",
       "      <td>Monsieur Nicolas M. et Madame Nathalie D. || d...</td>\n",
       "      <td>Sur la résidence habituelle des enfants : | At...</td>\n",
       "      <td>Par ordonnance rendue le 10 avril 2015, le jug...</td>\n",
       "      <td>Monsieur Nicolas M. et Madame Nathalie D. || d...</td>\n",
       "      <td>Sur la résidence habituelle des enfants : | At...</td>\n",
       "      <td>P</td>\n",
       "    </tr>\n",
       "    <tr>\n",
       "      <th>2</th>\n",
       "      <td>Cour d'appel, Caen, 3e chambre civile, 25 Févr...</td>\n",
       "      <td>Madame Roxane D. épouse B. | née le 26 décembr...</td>\n",
       "      <td>M. R. et Mme D., âgés de 30 et 31 ans, ont véc...</td>\n",
       "      <td>par jugement en date du 06 mars 2015 dont appe...</td>\n",
       "      <td>Madame Roxane D. épouse B. | née le 26 décembr...</td>\n",
       "      <td>M. R. et Mme D., âgés de 30 et 31 ans, ont véc...</td>\n",
       "      <td>M</td>\n",
       "    </tr>\n",
       "    <tr>\n",
       "      <th>3</th>\n",
       "      <td>Cour d'appel, Metz, Chambre de la famille, 16 ...</td>\n",
       "      <td>De la relation de Monsieur Mohamed L. et de Ma...</td>\n",
       "      <td>Sur la résidence de l'enfant et le droit de vi...</td>\n",
       "      <td>Par jugement rendu le 7 novembre 2014, le juge...</td>\n",
       "      <td>De la relation de Monsieur Mohamed L. et de Ma...</td>\n",
       "      <td>Sur la résidence de l'enfant et le droit de vi...</td>\n",
       "      <td>M</td>\n",
       "    </tr>\n",
       "    <tr>\n",
       "      <th>4</th>\n",
       "      <td>Cour d'appel, Metz, Chambre de la famille, 23 ...</td>\n",
       "      <td>Des relations des parties est issu l'enfant Dy...</td>\n",
       "      <td>Sur la résidence habituelle et le droit de vis...</td>\n",
       "      <td>le juge aux affaires familiales du tribunal de...</td>\n",
       "      <td>Des relations des parties est issu l'enfant Dy...</td>\n",
       "      <td>Sur la résidence habituelle et le droit de vis...</td>\n",
       "      <td>M</td>\n",
       "    </tr>\n",
       "    <tr>\n",
       "      <th>...</th>\n",
       "      <td>...</td>\n",
       "      <td>...</td>\n",
       "      <td>...</td>\n",
       "      <td>...</td>\n",
       "      <td>...</td>\n",
       "      <td>...</td>\n",
       "      <td>...</td>\n",
       "    </tr>\n",
       "    <tr>\n",
       "      <th>830</th>\n",
       "      <td>Cour d'appel, Versailles, 2e chambre, 2e secti...</td>\n",
       "      <td>Monsieur Henri Jean-Marie Joseph R. DE S. C. |...</td>\n",
       "      <td>Monsieur R. de S. C. demande que la résidence ...</td>\n",
       "      <td>Par jugement en date du 22 mai 2009, le juge a...</td>\n",
       "      <td>Monsieur Henri Jean-Marie Joseph R. DE S. C. |...</td>\n",
       "      <td>Monsieur R. de S. C. demande que la résidence ...</td>\n",
       "      <td>M</td>\n",
       "    </tr>\n",
       "    <tr>\n",
       "      <th>831</th>\n",
       "      <td>Cour d'appel, Versailles, 2e chambre, 2e secti...</td>\n",
       "      <td>Monsieur Abdallah M. | né le 27 Avril 1966 à [...</td>\n",
       "      <td>Considérant que M. M. expose que Mme B. a un f...</td>\n",
       "      <td>Par jugement du 3 mars 2009, le juge aux affai...</td>\n",
       "      <td>Monsieur Abdallah M. | né le 27 Avril 1966 à [...</td>\n",
       "      <td>Considérant que M. M. expose que Mme B. a un f...</td>\n",
       "      <td>P</td>\n",
       "    </tr>\n",
       "    <tr>\n",
       "      <th>832</th>\n",
       "      <td>Cour d'appel, Versailles, 2e chambre, 2e secti...</td>\n",
       "      <td>Monsieur Younes E. | né le 29 Juin 1974 à [......</td>\n",
       "      <td>L'article 373-2-11 du code civil dispose que l...</td>\n",
       "      <td>Par jugement du 8 juillet 2015, le juge aux af...</td>\n",
       "      <td>Monsieur Younes E. | né le 29 Juin 1974 à [......</td>\n",
       "      <td>L'article 373-2-11 du code civil dispose que l...</td>\n",
       "      <td>M</td>\n",
       "    </tr>\n",
       "    <tr>\n",
       "      <th>833</th>\n",
       "      <td>Cour d'appel, Douai, 7e chambre, 2e section, 3...</td>\n",
       "      <td>Madame Anne Marie X... | née le 27 Juin 1963 à...</td>\n",
       "      <td>Attendu que les parties n'apportent pas d'obse...</td>\n",
       "      <td>C'est dans ces circonstances que par jugement ...</td>\n",
       "      <td>Madame Anne Marie X... | née le 27 Juin 1963 à...</td>\n",
       "      <td>Attendu que les parties n'apportent pas d'obse...</td>\n",
       "      <td>M</td>\n",
       "    </tr>\n",
       "    <tr>\n",
       "      <th>834</th>\n",
       "      <td>Cour d'appel, Aix-en-Provence, 6e chambre A, 7...</td>\n",
       "      <td>Madame Carole D. épouse P. , | née le 19 Avril...</td>\n",
       "      <td>Attendu qu'à défaut de convention amiable des ...</td>\n",
       "      <td>par ordonnance de non conciliation du 7 janvie...</td>\n",
       "      <td>Madame Carole D. épouse P. , | née le 19 Avril...</td>\n",
       "      <td>Attendu qu'à défaut de convention amiable des ...</td>\n",
       "      <td>P</td>\n",
       "    </tr>\n",
       "  </tbody>\n",
       "</table>\n",
       "<p>835 rows × 7 columns</p>\n",
       "</div>"
      ],
      "text/plain": [
       "                                                   all  \\\n",
       "0    Cour d'appel, Aix-en-Provence, 6e chambre B, 2...   \n",
       "1    Cour d'appel, Metz, Chambre de la famille, 17 ...   \n",
       "2    Cour d'appel, Caen, 3e chambre civile, 25 Févr...   \n",
       "3    Cour d'appel, Metz, Chambre de la famille, 16 ...   \n",
       "4    Cour d'appel, Metz, Chambre de la famille, 23 ...   \n",
       "..                                                 ...   \n",
       "830  Cour d'appel, Versailles, 2e chambre, 2e secti...   \n",
       "831  Cour d'appel, Versailles, 2e chambre, 2e secti...   \n",
       "832  Cour d'appel, Versailles, 2e chambre, 2e secti...   \n",
       "833  Cour d'appel, Douai, 7e chambre, 2e section, 3...   \n",
       "834  Cour d'appel, Aix-en-Provence, 6e chambre A, 7...   \n",
       "\n",
       "                                                 faits  \\\n",
       "0    Monsieur Jean-Pierre Olivier Z. | né le 25 Sep...   \n",
       "1    Monsieur Nicolas M. et Madame Nathalie D. || d...   \n",
       "2    Madame Roxane D. épouse B. | née le 26 décembr...   \n",
       "3    De la relation de Monsieur Mohamed L. et de Ma...   \n",
       "4    Des relations des parties est issu l'enfant Dy...   \n",
       "..                                                 ...   \n",
       "830  Monsieur Henri Jean-Marie Joseph R. DE S. C. |...   \n",
       "831  Monsieur Abdallah M. | né le 27 Avril 1966 à [...   \n",
       "832  Monsieur Younes E. | né le 29 Juin 1974 à [......   \n",
       "833  Madame Anne Marie X... | née le 27 Juin 1963 à...   \n",
       "834  Madame Carole D. épouse P. , | née le 19 Avril...   \n",
       "\n",
       "                                                motifs  \\\n",
       "0    Sur la résidence habituelle des enfants commun...   \n",
       "1    Sur la résidence habituelle des enfants : | At...   \n",
       "2    M. R. et Mme D., âgés de 30 et 31 ans, ont véc...   \n",
       "3    Sur la résidence de l'enfant et le droit de vi...   \n",
       "4    Sur la résidence habituelle et le droit de vis...   \n",
       "..                                                 ...   \n",
       "830  Monsieur R. de S. C. demande que la résidence ...   \n",
       "831  Considérant que M. M. expose que Mme B. a un f...   \n",
       "832  L'article 373-2-11 du code civil dispose que l...   \n",
       "833  Attendu que les parties n'apportent pas d'obse...   \n",
       "834  Attendu qu'à défaut de convention amiable des ...   \n",
       "\n",
       "                                              jugement  \\\n",
       "0    Par ordonnance du 7 octobre 2015 le juge aux a...   \n",
       "1    Par ordonnance rendue le 10 avril 2015, le jug...   \n",
       "2    par jugement en date du 06 mars 2015 dont appe...   \n",
       "3    Par jugement rendu le 7 novembre 2014, le juge...   \n",
       "4    le juge aux affaires familiales du tribunal de...   \n",
       "..                                                 ...   \n",
       "830  Par jugement en date du 22 mai 2009, le juge a...   \n",
       "831  Par jugement du 3 mars 2009, le juge aux affai...   \n",
       "832  Par jugement du 8 juillet 2015, le juge aux af...   \n",
       "833  C'est dans ces circonstances que par jugement ...   \n",
       "834  par ordonnance de non conciliation du 7 janvie...   \n",
       "\n",
       "                                          faits_motifs  \\\n",
       "0    Monsieur Jean-Pierre Olivier Z. | né le 25 Sep...   \n",
       "1    Monsieur Nicolas M. et Madame Nathalie D. || d...   \n",
       "2    Madame Roxane D. épouse B. | née le 26 décembr...   \n",
       "3    De la relation de Monsieur Mohamed L. et de Ma...   \n",
       "4    Des relations des parties est issu l'enfant Dy...   \n",
       "..                                                 ...   \n",
       "830  Monsieur Henri Jean-Marie Joseph R. DE S. C. |...   \n",
       "831  Monsieur Abdallah M. | né le 27 Avril 1966 à [...   \n",
       "832  Monsieur Younes E. | né le 29 Juin 1974 à [......   \n",
       "833  Madame Anne Marie X... | née le 27 Juin 1963 à...   \n",
       "834  Madame Carole D. épouse P. , | née le 19 Avril...   \n",
       "\n",
       "                                       motifs_jugement label  \n",
       "0    Sur la résidence habituelle des enfants commun...     M  \n",
       "1    Sur la résidence habituelle des enfants : | At...     P  \n",
       "2    M. R. et Mme D., âgés de 30 et 31 ans, ont véc...     M  \n",
       "3    Sur la résidence de l'enfant et le droit de vi...     M  \n",
       "4    Sur la résidence habituelle et le droit de vis...     M  \n",
       "..                                                 ...   ...  \n",
       "830  Monsieur R. de S. C. demande que la résidence ...     M  \n",
       "831  Considérant que M. M. expose que Mme B. a un f...     P  \n",
       "832  L'article 373-2-11 du code civil dispose que l...     M  \n",
       "833  Attendu que les parties n'apportent pas d'obse...     M  \n",
       "834  Attendu qu'à défaut de convention amiable des ...     P  \n",
       "\n",
       "[835 rows x 7 columns]"
      ]
     },
     "execution_count": 2,
     "metadata": {},
     "output_type": "execute_result"
    }
   ],
   "source": [
    "dataSet = pd.read_csv('data.csv', sep=\"\\t\")\n",
    "dataSet"
   ]
  },
  {
   "cell_type": "code",
   "execution_count": 3,
   "id": "4f18ce9d",
   "metadata": {},
   "outputs": [
    {
     "data": {
      "text/plain": [
       "M    0.511377\n",
       "P    0.338922\n",
       "D    0.149701\n",
       "Name: label, dtype: float64"
      ]
     },
     "execution_count": 3,
     "metadata": {},
     "output_type": "execute_result"
    }
   ],
   "source": [
    "dataSet[\"label\"].value_counts(normalize=True)"
   ]
  },
  {
   "cell_type": "code",
   "execution_count": 5,
   "id": "774fa507",
   "metadata": {},
   "outputs": [
    {
     "data": {
      "text/plain": [
       "array([1, 2, 3, 4, 5, 6])"
      ]
     },
     "execution_count": 5,
     "metadata": {},
     "output_type": "execute_result"
    }
   ],
   "source": [
    "np.arange(1,7)"
   ]
  },
  {
   "cell_type": "code",
   "execution_count": 7,
   "id": "e5ca0718",
   "metadata": {},
   "outputs": [],
   "source": [
    "#dfCheck = dataSet.isna()\n",
    "#dfCheck.to_csv(\"check.csv\")\n",
    "#dataSet.to_csv(\"dataPanda.csv\")"
   ]
  },
  {
   "cell_type": "code",
   "execution_count": 4,
   "id": "000ed350",
   "metadata": {},
   "outputs": [],
   "source": [
    "train_X, test_X, train_y, test_y = train_test_split(\n",
    "        dataSet[\"faits\"].fillna(' '),\n",
    "        dataSet[\"label\"],\n",
    "        test_size=0.20,\n",
    "        random_state=42,\n",
    "        stratify=dataSet[\"label\"])"
   ]
  },
  {
   "cell_type": "code",
   "execution_count": null,
   "id": "e13a063a",
   "metadata": {},
   "outputs": [],
   "source": []
  },
  {
   "cell_type": "markdown",
   "id": "4e2a957e",
   "metadata": {},
   "source": [
    "Vectorisation des données d'entrée :"
   ]
  },
  {
   "cell_type": "code",
   "execution_count": 5,
   "id": "3f88ca30",
   "metadata": {},
   "outputs": [],
   "source": [
    "vectorizer = TfidfVectorizer(ngram_range=(1,3))\n",
    "train_vectors = vectorizer.fit_transform(train_X)\n",
    "test_vectors = vectorizer.transform(test_X)"
   ]
  },
  {
   "cell_type": "markdown",
   "id": "56ab0bfc",
   "metadata": {},
   "source": [
    "Entraînement avec un classificateur \"Dummy\""
   ]
  },
  {
   "cell_type": "code",
   "execution_count": 29,
   "id": "104752ca",
   "metadata": {},
   "outputs": [
    {
     "data": {
      "text/plain": [
       "array(['M', 'M', 'M', 'M', 'M', 'M', 'M', 'M', 'M', 'M', 'M', 'M', 'M',\n",
       "       'M', 'M', 'M', 'M', 'M', 'M', 'M', 'M', 'M', 'M', 'M', 'M', 'M',\n",
       "       'M', 'M', 'M', 'M', 'M', 'M', 'M', 'M', 'M', 'M', 'M', 'M', 'M',\n",
       "       'M', 'M', 'M', 'M', 'M', 'M', 'M', 'M', 'M', 'M', 'M', 'M', 'M',\n",
       "       'M', 'M', 'M', 'M', 'M', 'M', 'M', 'M', 'M', 'M', 'M', 'M', 'M',\n",
       "       'M', 'M', 'M', 'M', 'M', 'M', 'M', 'M', 'M', 'M', 'M', 'M', 'M',\n",
       "       'M', 'M', 'M', 'M', 'M', 'M', 'M', 'M', 'M', 'M', 'M', 'M', 'M',\n",
       "       'M', 'M', 'M', 'M', 'M', 'M', 'M', 'M', 'M', 'M', 'M', 'M', 'M',\n",
       "       'M', 'M', 'M', 'M', 'M', 'M', 'M', 'M', 'M', 'M', 'M', 'M', 'M',\n",
       "       'M', 'M', 'M', 'M', 'M', 'M', 'M', 'M', 'M', 'M', 'M', 'M', 'M',\n",
       "       'M', 'M', 'M', 'M', 'M', 'M', 'M', 'M', 'M', 'M', 'M', 'M', 'M',\n",
       "       'M', 'M', 'M', 'M', 'M', 'M', 'M', 'M', 'M', 'M', 'M', 'M', 'M',\n",
       "       'M', 'M', 'M', 'M', 'M', 'M', 'M', 'M', 'M', 'M', 'M'], dtype='<U1')"
      ]
     },
     "execution_count": 29,
     "metadata": {},
     "output_type": "execute_result"
    }
   ],
   "source": [
    "dummy = DummyClassifier(strategy=\"most_frequent\")\n",
    "dummy.fit(train_vectors, train_y)\n",
    "dummy.predict(test_vectors)"
   ]
  },
  {
   "cell_type": "markdown",
   "id": "fafc2714",
   "metadata": {},
   "source": [
    "Forêt aléatoire : "
   ]
  },
  {
   "cell_type": "code",
   "execution_count": 6,
   "id": "6461a23c",
   "metadata": {},
   "outputs": [
    {
     "data": {
      "text/plain": [
       "array(['M', 'M', 'P', 'M', 'M', 'M', 'M', 'M', 'M', 'P', 'M', 'M', 'M',\n",
       "       'P', 'M', 'M', 'M', 'P', 'P', 'M', 'M', 'M', 'M', 'M', 'M', 'M',\n",
       "       'M', 'M', 'M', 'M', 'M', 'M', 'M', 'M', 'P', 'M', 'M', 'M', 'M',\n",
       "       'D', 'M', 'M', 'P', 'M', 'P', 'M', 'M', 'P', 'M', 'M', 'P', 'M',\n",
       "       'M', 'M', 'M', 'P', 'P', 'M', 'P', 'M', 'D', 'M', 'M', 'M', 'M',\n",
       "       'M', 'P', 'P', 'P', 'M', 'M', 'P', 'P', 'M', 'M', 'M', 'P', 'M',\n",
       "       'P', 'M', 'M', 'M', 'M', 'M', 'M', 'M', 'M', 'M', 'M', 'P', 'P',\n",
       "       'M', 'M', 'M', 'M', 'P', 'M', 'M', 'M', 'M', 'M', 'M', 'M', 'M',\n",
       "       'M', 'M', 'M', 'M', 'M', 'M', 'M', 'M', 'M', 'M', 'M', 'M', 'M',\n",
       "       'M', 'M', 'P', 'M', 'P', 'M', 'M', 'M', 'M', 'P', 'M', 'M', 'M',\n",
       "       'M', 'M', 'M', 'M', 'M', 'M', 'P', 'P', 'M', 'P', 'M', 'P', 'P',\n",
       "       'M', 'M', 'M', 'M', 'M', 'M', 'M', 'P', 'M', 'M', 'M', 'M', 'M',\n",
       "       'M', 'M', 'M', 'M', 'P', 'M', 'M', 'M', 'M', 'M', 'M'],\n",
       "      dtype=object)"
      ]
     },
     "execution_count": 6,
     "metadata": {},
     "output_type": "execute_result"
    }
   ],
   "source": [
    "forest = RandomForestClassifier()\n",
    "forest.fit(train_vectors, train_y)\n",
    "forest.predict(test_vectors)"
   ]
  },
  {
   "cell_type": "code",
   "execution_count": 7,
   "id": "15e180ad",
   "metadata": {},
   "outputs": [],
   "source": [
    "param_grid_forest = { \n",
    "    'n_estimators': [200, 500],\n",
    "    'max_depth' : [4,5,6,7,8],\n",
    "    'criterion' :['gini', 'entropy']\n",
    "    }\n",
    "grid_forest = GridSearchCV(RandomForestClassifier(), param_grid_forest, cv = 5)"
   ]
  },
  {
   "cell_type": "code",
   "execution_count": 8,
   "id": "1c6f4f13",
   "metadata": {},
   "outputs": [
    {
     "data": {
      "text/plain": [
       "GridSearchCV(cv=5, estimator=RandomForestClassifier(),\n",
       "             param_grid={'criterion': ['gini', 'entropy'],\n",
       "                         'max_depth': [4, 5, 6, 7, 8],\n",
       "                         'n_estimators': [200, 500]})"
      ]
     },
     "execution_count": 8,
     "metadata": {},
     "output_type": "execute_result"
    }
   ],
   "source": [
    "grid_forest.fit(train_vectors, train_y)"
   ]
  },
  {
   "cell_type": "code",
   "execution_count": 10,
   "id": "0e151044",
   "metadata": {},
   "outputs": [
    {
     "data": {
      "text/plain": [
       "RandomForestClassifier(max_depth=7, n_estimators=200)"
      ]
     },
     "execution_count": 10,
     "metadata": {},
     "output_type": "execute_result"
    }
   ],
   "source": [
    "grid_forest.best_estimator_"
   ]
  },
  {
   "cell_type": "markdown",
   "id": "a4121550",
   "metadata": {},
   "source": [
    "Entraînement du classificateur de Bayes :"
   ]
  },
  {
   "cell_type": "code",
   "execution_count": 22,
   "id": "0e262549",
   "metadata": {},
   "outputs": [
    {
     "data": {
      "text/plain": [
       "(0.5538922155688623,\n",
       " array(['M', 'M', 'M', 'M', 'M', 'M', 'M', 'M', 'M', 'M', 'M', 'M', 'M',\n",
       "        'M', 'M', 'M', 'M', 'M', 'M', 'M', 'M', 'M', 'M', 'M', 'M', 'M',\n",
       "        'M', 'M', 'M', 'M', 'M', 'M', 'M', 'M', 'M', 'M', 'M', 'M', 'M',\n",
       "        'M', 'M', 'M', 'M', 'M', 'M', 'M', 'M', 'M', 'M', 'M', 'M', 'M',\n",
       "        'M', 'M', 'M', 'M', 'M', 'M', 'M', 'M', 'M', 'M', 'M', 'M', 'M',\n",
       "        'M', 'M', 'M', 'M', 'M', 'M', 'M', 'M', 'M', 'M', 'M', 'M', 'M',\n",
       "        'M', 'M', 'M', 'M', 'M', 'M', 'M', 'M', 'M', 'M', 'M', 'M', 'M',\n",
       "        'M', 'M', 'M', 'M', 'M', 'M', 'M', 'M', 'M', 'M', 'M', 'M', 'M',\n",
       "        'M', 'M', 'M', 'M', 'M', 'M', 'M', 'M', 'M', 'M', 'M', 'M', 'M',\n",
       "        'M', 'M', 'M', 'M', 'M', 'M', 'M', 'M', 'M', 'M', 'M', 'M', 'M',\n",
       "        'M', 'M', 'M', 'M', 'M', 'M', 'M', 'M', 'M', 'M', 'M', 'M', 'M',\n",
       "        'M', 'M', 'M', 'M', 'M', 'M', 'M', 'M', 'M', 'M', 'M', 'M', 'M',\n",
       "        'M', 'M', 'M', 'M', 'M', 'M', 'M', 'M', 'M', 'M', 'M'], dtype='<U1'))"
      ]
     },
     "execution_count": 22,
     "metadata": {},
     "output_type": "execute_result"
    }
   ],
   "source": [
    "nb = naive_bayes.MultinomialNB()\n",
    "nb.fit(train_vectors, train_y)\n",
    "nb.score(train_vectors, train_y), nb.predict(test_vectors)"
   ]
  },
  {
   "cell_type": "markdown",
   "id": "d78d58b1",
   "metadata": {},
   "source": [
    "Idem pour le SVM :"
   ]
  },
  {
   "cell_type": "code",
   "execution_count": null,
   "id": "1bbf0c29",
   "metadata": {},
   "outputs": [],
   "source": [
    "svc = SVC(kernel=\"linear\")\n",
    "svc.fit(train_vectors, train_y)\n",
    "svc.score(test_vectors, test_y), svc.predict(test_vectors)"
   ]
  },
  {
   "cell_type": "code",
   "execution_count": null,
   "id": "289a0477",
   "metadata": {},
   "outputs": [],
   "source": [
    "KNN = KNeighborsClassifier(n_neighbors=1)\n",
    "KNN.fit(train_vectors, train_y)\n",
    "KNN.score(test_vectors, test_y), KNN.predict(test_vectors)"
   ]
  },
  {
   "cell_type": "markdown",
   "id": "7cf32f35",
   "metadata": {},
   "source": [
    "## Maintenant on passe à la Cross-Validation :"
   ]
  },
  {
   "cell_type": "markdown",
   "id": "7ca8f75f",
   "metadata": {},
   "source": [
    "**Cross-validation pour les KNeighbors**"
   ]
  },
  {
   "cell_type": "code",
   "execution_count": null,
   "id": "40d61ea1",
   "metadata": {},
   "outputs": [],
   "source": [
    "param_grid = {\"n_neighbors\" : np.arange(1,20), 'metric':['euclidean','manhattan']}\n",
    "grid = GridSearchCV(KNeighborsClassifier(), param_grid, cv = 5)"
   ]
  },
  {
   "cell_type": "code",
   "execution_count": null,
   "id": "df8d632d",
   "metadata": {},
   "outputs": [],
   "source": [
    "grid.fit(train_vectors, train_y)"
   ]
  },
  {
   "cell_type": "code",
   "execution_count": null,
   "id": "b335d5ea",
   "metadata": {},
   "outputs": [],
   "source": [
    "grid.best_params_"
   ]
  },
  {
   "cell_type": "code",
   "execution_count": null,
   "id": "767f443d",
   "metadata": {},
   "outputs": [],
   "source": [
    "model = grid.best_estimator_"
   ]
  },
  {
   "cell_type": "code",
   "execution_count": null,
   "id": "85f888d4",
   "metadata": {},
   "outputs": [],
   "source": [
    "model.score(test_vectors, test_y)"
   ]
  },
  {
   "cell_type": "code",
   "execution_count": null,
   "id": "d0fdb189",
   "metadata": {},
   "outputs": [],
   "source": [
    "confusion_matrix(test_y, model.predict(test_vectors))"
   ]
  },
  {
   "cell_type": "markdown",
   "id": "7d0465d9",
   "metadata": {},
   "source": [
    "**Cross-val pour les SVM**"
   ]
  },
  {
   "cell_type": "code",
   "execution_count": null,
   "id": "ae41a3de",
   "metadata": {},
   "outputs": [],
   "source": [
    "param_grid_SVM = {\"kernel\" : [\"linear\", \"rbf\", \"sigmoid\"], \"C\" : np.logspace(-1,1,3)}\n",
    "grid_SVM = GridSearchCV(SVC(), param_grid_SVM, cv = 5)"
   ]
  },
  {
   "cell_type": "code",
   "execution_count": null,
   "id": "d3ca8309",
   "metadata": {},
   "outputs": [],
   "source": [
    "grid_SVM.fit(train_vectors, train_y)"
   ]
  },
  {
   "cell_type": "code",
   "execution_count": null,
   "id": "ddb7a30b",
   "metadata": {},
   "outputs": [],
   "source": [
    "grid_SVM.best_params_"
   ]
  },
  {
   "cell_type": "code",
   "execution_count": null,
   "id": "2817b137",
   "metadata": {},
   "outputs": [],
   "source": [
    "grid_SVM.best_score_"
   ]
  },
  {
   "cell_type": "markdown",
   "id": "0b5e8c58",
   "metadata": {},
   "source": [
    "**Cross-val pour le nb**"
   ]
  },
  {
   "cell_type": "code",
   "execution_count": null,
   "id": "8a788dce",
   "metadata": {},
   "outputs": [],
   "source": [
    "param_grid_nb = {'alpha': (1, 0.1, 0.01, 0.001, 0.0001, 0.00001)}\n",
    "grid_nb = GridSearchCV(naive_bayes.MultinomialNB(), param_grid_nb, cv = 5)"
   ]
  },
  {
   "cell_type": "code",
   "execution_count": null,
   "id": "c4df85e7",
   "metadata": {},
   "outputs": [],
   "source": [
    "grid_nb.fit(train_vectors, train_y)"
   ]
  },
  {
   "cell_type": "markdown",
   "id": "cdb1d71e",
   "metadata": {},
   "source": [
    "**Essais et tests :**"
   ]
  },
  {
   "cell_type": "code",
   "execution_count": null,
   "id": "dbafb27c",
   "metadata": {},
   "outputs": [],
   "source": [
    "nameModels = [\n",
    "        \"NbClassifier\",\n",
    "        \"KNN\",\n",
    "        \"SVM\"\n",
    "    ]\n",
    "\n",
    "modelsTest = [\n",
    "    naive_bayes.MultinomialNB(),\n",
    "    KNeighborsClassifier(n_neighbors=1),\n",
    "    SVC(kernel=\"linear\")\n",
    "]"
   ]
  },
  {
   "cell_type": "code",
   "execution_count": null,
   "id": "2eb5d050",
   "metadata": {},
   "outputs": [],
   "source": [
    "for name, model in zip(nameModels, modelsTest):\n",
    "    model.fit(train_vectors, train_y)\n",
    "    print(model.predict(test_vectors))"
   ]
  },
  {
   "cell_type": "code",
   "execution_count": null,
   "id": "d541f768",
   "metadata": {},
   "outputs": [],
   "source": [
    "modelsEval = [\n",
    "    naive_bayes.MultinomialNB(),\n",
    "    KNeighborsClassifier(),\n",
    "    SVC()\n",
    "]"
   ]
  },
  {
   "cell_type": "code",
   "execution_count": null,
   "id": "80a58e57",
   "metadata": {},
   "outputs": [],
   "source": [
    "param_grid_models = [\n",
    "    {'alpha': np.logspace(0,5,6)},\n",
    "    {\"n_neighbors\" : np.arange(1,20), 'metric':['euclidean','manhattan']},\n",
    "    {\"kernel\" : [\"linear\", \"rbf\", \"sigmoid\"], \"C\" : np.logspace(-1,1,3)}\n",
    "]"
   ]
  },
  {
   "cell_type": "code",
   "execution_count": null,
   "id": "7c77834e",
   "metadata": {},
   "outputs": [],
   "source": [
    "resultsModels = []\n",
    "for name, model, param in zip(nameModels, modelsEval, param_grid_models):\n",
    "    grid_all = GridSearchCV(model, param, cv = 5)\n",
    "    grid_all.fit(train_vectors, train_y)\n",
    "    resultsModels.append(grid_all.best_estimator_)"
   ]
  },
  {
   "cell_type": "code",
   "execution_count": null,
   "id": "7530f369",
   "metadata": {},
   "outputs": [],
   "source": [
    "resultsModels"
   ]
  },
  {
   "cell_type": "markdown",
   "id": "9aba9a0e",
   "metadata": {},
   "source": [
    "**Les métriques maintenant :**"
   ]
  },
  {
   "cell_type": "code",
   "execution_count": null,
   "id": "9f4a2c6c",
   "metadata": {},
   "outputs": [],
   "source": [
    "macroF1 = metrics.f1_score(test_y, svc.predict(test_vectors), average = \"macro\")\n",
    "microF1 = metrics.f1_score(test_y, svc.predict(test_vectors), average = \"micro\")\n",
    "F1weighted = metrics.f1_score(test_y, svc.predict(test_vectors), average = \"weighted\")\n",
    "acc = metrics.accuracy_score(test_y, svc.predict(test_vectors))"
   ]
  },
  {
   "cell_type": "code",
   "execution_count": null,
   "id": "87956438",
   "metadata": {},
   "outputs": [],
   "source": [
    "macroF1, microF1, F1weighted, acc"
   ]
  },
  {
   "cell_type": "markdown",
   "id": "2d2fdaad",
   "metadata": {},
   "source": [
    "**Test du classificateur MLP** Pas d'ajustement de paramètres car trop lourd"
   ]
  },
  {
   "cell_type": "code",
   "execution_count": null,
   "id": "c7808334",
   "metadata": {},
   "outputs": [],
   "source": [
    "clf = MLPClassifier(solver='lbfgs', alpha=1e-5, hidden_layer_sizes=(5, 2), random_state=1)"
   ]
  },
  {
   "cell_type": "code",
   "execution_count": null,
   "id": "b49ab2eb",
   "metadata": {},
   "outputs": [],
   "source": [
    "clf.fit(train_vectors, train_y)\n",
    "clf.score(test_vectors, test_y), clf.predict(test_vectors)"
   ]
  },
  {
   "cell_type": "code",
   "execution_count": null,
   "id": "0e67544f",
   "metadata": {},
   "outputs": [],
   "source": [
    "#param_grid_clf = {\n",
    "    #'activation': [\"relu\", \"tanh\", \"logistic\"], \n",
    "    #'alpha': np.logspace(0,5,6), \n",
    "    #'hidden_layer_sizes':np.arange(10, 15)\n",
    "    #}\n",
    "#grid_clf = GridSearchCV(MLPClassifier(max_iter=1000), param_grid_clf, cv = 5)"
   ]
  },
  {
   "cell_type": "code",
   "execution_count": null,
   "id": "19201a22",
   "metadata": {},
   "outputs": [],
   "source": [
    "#grid_clf.fit(train_vectors, train_y)"
   ]
  },
  {
   "cell_type": "code",
   "execution_count": null,
   "id": "152ad4e4",
   "metadata": {},
   "outputs": [],
   "source": [
    "#grid_clf.best_params_"
   ]
  },
  {
   "cell_type": "markdown",
   "id": "9a3ad59a",
   "metadata": {},
   "source": [
    "**Test des forêts** Pas d'ajustement de paramètres car trop lourd"
   ]
  },
  {
   "cell_type": "code",
   "execution_count": null,
   "id": "2febc057",
   "metadata": {},
   "outputs": [],
   "source": [
    "tree = DecisionTreeClassifier()"
   ]
  },
  {
   "cell_type": "code",
   "execution_count": null,
   "id": "8fba11c6",
   "metadata": {},
   "outputs": [],
   "source": [
    "tree.fit(train_vectors, train_y)\n",
    "tree.score(test_vectors, test_y), tree.predict(test_vectors)"
   ]
  },
  {
   "cell_type": "code",
   "execution_count": null,
   "id": "9e8b70ad",
   "metadata": {},
   "outputs": [],
   "source": [
    "param_grid_tree = {\n",
    "    'criterion':['gini','entropy'], \n",
    "    \"max_depth\" : np.arange(3,10), \n",
    "    'max_leaf_nodes': list(range(2, 100))\n",
    "    }"
   ]
  },
  {
   "cell_type": "code",
   "execution_count": null,
   "id": "e8fb25dc",
   "metadata": {},
   "outputs": [],
   "source": [
    "grid_tree = GridSearchCV(tree, param_grid_tree, cv=5)"
   ]
  },
  {
   "cell_type": "markdown",
   "id": "1726d2f3",
   "metadata": {},
   "source": [
    "## Lime Classificateur"
   ]
  },
  {
   "cell_type": "code",
   "execution_count": null,
   "id": "355b1034",
   "metadata": {},
   "outputs": [],
   "source": [
    "from sklearn.pipeline import make_pipeline\n",
    "\n",
    "pipe = make_pipeline(vectorizer, clf)\n",
    "#pipe = make_pipeline(CountVectorizer(binary=True, max_df=0.8, min_df=5, ngram_range=(1,6)), clf)"
   ]
  },
  {
   "cell_type": "code",
   "execution_count": null,
   "id": "ce63f9d4",
   "metadata": {},
   "outputs": [],
   "source": [
    "list(test_X)"
   ]
  },
  {
   "cell_type": "code",
   "execution_count": null,
   "id": "92ecceab",
   "metadata": {},
   "outputs": [],
   "source": [
    "pipe.predict_proba(list(test_X))"
   ]
  },
  {
   "cell_type": "code",
   "execution_count": null,
   "id": "dbacccda",
   "metadata": {},
   "outputs": [],
   "source": [
    "from lime.lime_text import LimeTextExplainer"
   ]
  },
  {
   "cell_type": "code",
   "execution_count": null,
   "id": "782108bd",
   "metadata": {},
   "outputs": [],
   "source": [
    "class_names = sorted(set(train_y))\n",
    "class_names"
   ]
  },
  {
   "cell_type": "code",
   "execution_count": null,
   "id": "0d0de0fb",
   "metadata": {},
   "outputs": [],
   "source": [
    "explainer = LimeTextExplainer(class_names=class_names)"
   ]
  },
  {
   "cell_type": "code",
   "execution_count": null,
   "id": "cc9c815c",
   "metadata": {},
   "outputs": [],
   "source": [
    "dicInterpret = {}"
   ]
  },
  {
   "cell_type": "code",
   "execution_count": null,
   "id": "9489565f",
   "metadata": {},
   "outputs": [],
   "source": [
    "for idx in range(3):\n",
    "    exp = explainer.explain_instance(list(test_X)[idx], pipe.predict_proba, num_features=20)\n",
    "    dicInterpret[\"Document \"+str(idx)] = {\n",
    "        \"Proba : \" : pipe.predict_proba([list(test_X)[idx]]),\n",
    "        \"True class : \" : list(test_y)[idx],\n",
    "        \"Features prédictives : \" : exp.as_list()\n",
    "    }\n",
    "    exp.show_in_notebook()\n",
    "    #print(f'Document id: {idx}')\n",
    "    #print(f'Probability  = {pipe.predict_proba([list(test_X)[idx]])}')\n",
    "    #print(f'True class: {list(test_y)[idx]}')\n",
    "    #print(f'Les features prédictives sont : {exp.as_list()}')\n"
   ]
  },
  {
   "cell_type": "code",
   "execution_count": null,
   "id": "c8c3415e",
   "metadata": {},
   "outputs": [],
   "source": [
    "dicInterpret"
   ]
  },
  {
   "cell_type": "code",
   "execution_count": null,
   "id": "1a962f9a",
   "metadata": {},
   "outputs": [],
   "source": [
    "#interpret = pd.DataFrame(data=dicInterpret)"
   ]
  },
  {
   "cell_type": "code",
   "execution_count": null,
   "id": "9a8a1c6f",
   "metadata": {},
   "outputs": [],
   "source": [
    "#interpret"
   ]
  },
  {
   "cell_type": "code",
   "execution_count": null,
   "id": "7491d33d",
   "metadata": {},
   "outputs": [],
   "source": [
    "def interpret(test_X, train_y, vectorizer, model):\n",
    "\n",
    "    pipe = make_pipeline(vectorizer, model)\n",
    "    class_names = sorted(set(train_y))\n",
    "    explainer = LimeTextExplainer(class_names=class_names)\n",
    "\n",
    "    for idx in range(5):\n",
    "        exp = explainer.explain_instance(list(test_X)[idx], pipe.predict_proba, num_features=20)\n",
    "        dicInterpret[\"Document \"+str(idx)] = {\n",
    "            \"Proba : \" : pipe.predict_proba([list(test_X)[idx]]),\n",
    "            \"True class : \" : list(test_y)[idx],\n",
    "            \"Features prédictives : \" : exp.as_list()\n",
    "        }\n",
    "        exp.show_in_notebook()\n",
    "        #print(f'Document id: {idx}')\n",
    "        #print(f'Probability  = {pipe.predict_proba([list(test_X)[idx]])}')\n",
    "        #print(f'True class: {list(test_y)[idx]}')\n",
    "        #print(f'Les features prédictives sont : {exp.as_list()}')\n",
    "\n",
    "    print(dicInterpret)"
   ]
  },
  {
   "cell_type": "code",
   "execution_count": null,
   "id": "22c110e4",
   "metadata": {},
   "outputs": [],
   "source": [
    "interpret(test_X, train_y, vectorizer, KNN)"
   ]
  },
  {
   "cell_type": "code",
   "execution_count": null,
   "id": "484e9ae4",
   "metadata": {},
   "outputs": [],
   "source": [
    "interpret(test_X, train_y, vectorizer, clf)"
   ]
  },
  {
   "cell_type": "code",
   "execution_count": null,
   "id": "7768abb9",
   "metadata": {},
   "outputs": [],
   "source": [
    "interpret(test_X, train_y, vectorizer, tree)"
   ]
  },
  {
   "cell_type": "code",
   "execution_count": null,
   "id": "dcd88c59",
   "metadata": {},
   "outputs": [],
   "source": [
    "interpret(test_X, train_y, vectorizer, nb)"
   ]
  },
  {
   "cell_type": "code",
   "execution_count": null,
   "id": "98b40a3f",
   "metadata": {},
   "outputs": [],
   "source": []
  }
 ],
 "metadata": {
  "kernelspec": {
   "display_name": "Python 3 (ipykernel)",
   "language": "python",
   "name": "python3"
  },
  "language_info": {
   "codemirror_mode": {
    "name": "ipython",
    "version": 3
   },
   "file_extension": ".py",
   "mimetype": "text/x-python",
   "name": "python",
   "nbconvert_exporter": "python",
   "pygments_lexer": "ipython3",
   "version": "3.10.4"
  }
 },
 "nbformat": 4,
 "nbformat_minor": 5
}
